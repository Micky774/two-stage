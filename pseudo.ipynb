{
 "cells": [
  {
   "cell_type": "code",
   "execution_count": null,
   "metadata": {},
   "outputs": [],
   "source": [
    "from torchvision.datasets import FashionMNIST\n",
    "from tsv.natvamp import ModularNVPW\n",
    "import torch\n",
    "import numpy as np\n",
    "import matplotlib.pyplot as plt\n",
    "from itertools import product\n",
    "import seaborn as sns\n",
    "\n",
    "fmnist_train = FashionMNIST(\n",
    "    \"FMNIST\",\n",
    "    train=True,\n",
    "    download=True,\n",
    ")\n",
    "control_data = fmnist_train.data.view(-1, 1, 28, 28).float().numpy()\n",
    "control_data /= 255\n",
    "control_labels = fmnist_train.targets.numpy()"
   ]
  },
  {
   "cell_type": "code",
   "execution_count": null,
   "metadata": {},
   "outputs": [],
   "source": [
    "model = ModularNVPW.load_from_checkpoint(\"/home/zain/code/two-stage/logs/nvpw/fmnist-pseudodiverge/checkpoints/epoch=99-step=5900.ckpt\")\n",
    "torch.set_grad_enabled(False)"
   ]
  },
  {
   "cell_type": "code",
   "execution_count": null,
   "metadata": {},
   "outputs": [],
   "source": [
    "model.eval().cuda()"
   ]
  },
  {
   "cell_type": "code",
   "execution_count": null,
   "metadata": {},
   "outputs": [],
   "source": [
    "idx = 0\n",
    "raw = control_data[idx:idx+1]\n",
    "x = raw.squeeze(1)\n",
    "with torch.no_grad():\n",
    "    x_hat = model(torch.tensor(raw).cuda())[0].cpu().view(-1, 28, 28).numpy()\n",
    "plt.imshow(x[0])\n",
    "plt.show()\n",
    "plt.imshow(x_hat[0])\n",
    "plt.show()\n",
    "torch.nn.functional.mse_loss(torch.tensor(x), torch.tensor(x_hat), reduction=\"mean\")"
   ]
  },
  {
   "cell_type": "code",
   "execution_count": null,
   "metadata": {},
   "outputs": [],
   "source": [
    "def plot_pseudos_and_representatives(pseudos, representatives):\n",
    "\n",
    "    fig, axs = plt.subplots(\n",
    "        pseudos.shape[0], representatives.shape[0] + 1, figsize=(8, 28)\n",
    "    )\n",
    "    print(representatives.shape)\n",
    "    for i, ax in enumerate(axs):\n",
    "        pseudo = pseudos[i, 0]\n",
    "        ax[0].imshow(pseudo)\n",
    "        ax[0].axis(\"off\")\n",
    "        for j in range(1, representatives.shape[0] + 1):\n",
    "            rep = representatives[j - 1, i]\n",
    "            ax[j].imshow(rep)\n",
    "            ax[j].axis(\"off\")\n",
    "    fig.tight_layout()\n",
    "    fig.show()"
   ]
  },
  {
   "cell_type": "code",
   "execution_count": null,
   "metadata": {},
   "outputs": [],
   "source": [
    "def plot_pseudos():\n",
    "    width = np.ceil(np.sqrt(model.num_pseudos))\n",
    "    width = int(width)\n",
    "    length = width\n",
    "    if model.num_pseudos % width == 0:\n",
    "        length = model.num_pseudos // width\n",
    "    fig, ax = plt.subplots(length, width, figsize=(14, 10))\n",
    "\n",
    "    for i, _ax in zip(range(model.num_pseudos), ax.flatten()):\n",
    "        pseudo = model.pseudos[i].cpu().view(28, 28).numpy()\n",
    "        _ax.imshow(pseudo)\n",
    "    fig.show()"
   ]
  },
  {
   "cell_type": "code",
   "execution_count": null,
   "metadata": {},
   "outputs": [],
   "source": [
    "plot_pseudos()"
   ]
  },
  {
   "cell_type": "code",
   "execution_count": null,
   "metadata": {},
   "outputs": [],
   "source": [
    "model.project_pseudos()"
   ]
  },
  {
   "cell_type": "code",
   "execution_count": null,
   "metadata": {},
   "outputs": [],
   "source": [
    "plot_pseudos()"
   ]
  },
  {
   "cell_type": "code",
   "execution_count": null,
   "metadata": {},
   "outputs": [],
   "source": [
    "def calculate_divergences(model, indices):\n",
    "    divergences = []\n",
    "    for idx, jdx in product(indices, indices):\n",
    "        if idx == jdx:\n",
    "            continue\n",
    "        x, y = model.get_pseudos()[[idx, jdx]]\n",
    "        x = x.unsqueeze(0)\n",
    "        y = y.unsqueeze(0)\n",
    "        kl_div = model.general_kl(*model.q_z(x)[:2], *model.q_z(y)[:2])\n",
    "        divergences.append((idx, jdx, kl_div.item()))\n",
    "    return divergences"
   ]
  },
  {
   "cell_type": "code",
   "execution_count": null,
   "metadata": {},
   "outputs": [],
   "source": [
    "divergences = calculate_divergences(model, range(model.num_pseudos))\n",
    "sorted_divergences = sorted(divergences, key=lambda x: x[2])"
   ]
  },
  {
   "cell_type": "code",
   "execution_count": null,
   "metadata": {},
   "outputs": [],
   "source": [
    "raw_divergences = np.array([divergence[2] for divergence in divergences])\n",
    "plt.hist(raw_divergences, bins=50)"
   ]
  },
  {
   "cell_type": "code",
   "execution_count": null,
   "metadata": {},
   "outputs": [],
   "source": [
    "sorted_divergences"
   ]
  },
  {
   "cell_type": "code",
   "execution_count": null,
   "metadata": {},
   "outputs": [],
   "source": [
    "def _condense(divergences, num_pseudos):\n",
    "    groups = []\n",
    "    included = [False] * num_pseudos\n",
    "    for idx, jdx, _ in divergences:\n",
    "        if included[idx] and included[jdx]:\n",
    "            continue\n",
    "        \n",
    "        if not included[idx] and not included[jdx]:\n",
    "            groups.append({idx, jdx})\n",
    "            included[idx] = True\n",
    "            included[jdx] = True\n",
    "            continue\n",
    "\n",
    "        for group in groups:\n",
    "            if idx in group or jdx in group:\n",
    "                group |= {idx, jdx}\n",
    "                included[idx] = True\n",
    "                included[jdx] = True                \n",
    "                break\n",
    "    return groups"
   ]
  },
  {
   "cell_type": "code",
   "execution_count": null,
   "metadata": {},
   "outputs": [],
   "source": [
    "condensed_groups = _condense(sorted_divergences, model.num_pseudos)"
   ]
  },
  {
   "cell_type": "code",
   "execution_count": null,
   "metadata": {},
   "outputs": [],
   "source": [
    "condensed_groups"
   ]
  },
  {
   "cell_type": "code",
   "execution_count": null,
   "metadata": {},
   "outputs": [],
   "source": [
    "model.merge_pseudos((2, 3))"
   ]
  },
  {
   "cell_type": "code",
   "execution_count": null,
   "metadata": {},
   "outputs": [],
   "source": [
    "plot_pseudos()"
   ]
  },
  {
   "cell_type": "code",
   "execution_count": null,
   "metadata": {},
   "outputs": [],
   "source": [
    "model.merge_pseudos((17, 13))"
   ]
  },
  {
   "cell_type": "code",
   "execution_count": null,
   "metadata": {},
   "outputs": [],
   "source": [
    "plot_pseudos()"
   ]
  },
  {
   "cell_type": "code",
   "execution_count": null,
   "metadata": {},
   "outputs": [],
   "source": [
    "divergences = calculate_divergences(model, range(model.num_pseudos))\n",
    "sorted_divergences = sorted(divergences, key=lambda x: x[2])"
   ]
  },
  {
   "cell_type": "code",
   "execution_count": null,
   "metadata": {},
   "outputs": [],
   "source": [
    "sorted_divergences"
   ]
  },
  {
   "cell_type": "code",
   "execution_count": null,
   "metadata": {},
   "outputs": [],
   "source": [
    "model.merge_pseudos((5, 7))"
   ]
  },
  {
   "cell_type": "code",
   "execution_count": null,
   "metadata": {},
   "outputs": [],
   "source": [
    "plot_pseudos()"
   ]
  },
  {
   "cell_type": "code",
   "execution_count": null,
   "metadata": {},
   "outputs": [],
   "source": [
    "model.merge_pseudos((6, 13))"
   ]
  },
  {
   "cell_type": "code",
   "execution_count": null,
   "metadata": {},
   "outputs": [],
   "source": [
    "plot_pseudos()"
   ]
  },
  {
   "cell_type": "code",
   "execution_count": null,
   "metadata": {},
   "outputs": [],
   "source": [
    "def propose_merges(model, num_proposals):\n",
    "    merges = []\n",
    "    divergences = calculate_divergences(model, range(model.num_pseudos))\n",
    "    sorted_divergences = sorted(divergences, key=lambda x: x[2])\n",
    "    \n",
    "    for idx, jdx, divergence in divergences:\n",
    "\n",
    "    return merges"
   ]
  },
  {
   "cell_type": "code",
   "execution_count": null,
   "metadata": {},
   "outputs": [],
   "source": [
    "divergences = calculate_divergences(model, range(model.num_pseudos))\n",
    "sorted_divergences = sorted(divergences, key=lambda x: x[2])"
   ]
  },
  {
   "cell_type": "code",
   "execution_count": null,
   "metadata": {},
   "outputs": [],
   "source": [
    "sorted_divergences"
   ]
  },
  {
   "cell_type": "code",
   "execution_count": null,
   "metadata": {},
   "outputs": [],
   "source": [
    "model.num_pseudos"
   ]
  },
  {
   "cell_type": "code",
   "execution_count": null,
   "metadata": {},
   "outputs": [],
   "source": [
    "# torch.save(model, \"/home/zain/code/two-stage/logs/nvpw/fmnist-pseudodiverge/model.pt\")"
   ]
  },
  {
   "cell_type": "code",
   "execution_count": null,
   "metadata": {},
   "outputs": [],
   "source": [
    "from torch.utils.data import DataLoader\n",
    "import tqdm\n",
    "data_loader = DataLoader(\n",
    "            fmnist_train.train_data,\n",
    "            batch_size=256,\n",
    "            num_workers=4,\n",
    "            shuffle=False,\n",
    "            persistent_workers=False,\n",
    "            pin_memory=True,\n",
    "            prefetch_factor=5,\n",
    "        )\n"
   ]
  },
  {
   "cell_type": "code",
   "execution_count": null,
   "metadata": {},
   "outputs": [],
   "source": [
    "from tsv.natvamp import log_normal_diag\n",
    "\n",
    "pseudos = model.get_pseudos()\n",
    "mu_p, logvar_p, *_ = model.q_z(pseudos)\n",
    "max_likelihood_idx = []\n",
    "likelihoods = []\n",
    "for batch in tqdm.tqdm(data_loader):\n",
    "    x = batch.float().cuda().view(-1, 1, 28, 28)\n",
    "    x /= 255\n",
    "    mu = model.q_z(x)[0]\n",
    "    likelihoods.append(log_normal_diag(mu.unsqueeze(1), mu_p.unsqueeze(0), logvar_p.unsqueeze(0), reduction=\"sum\", dim=-1).cpu())\n",
    "likelihoods = torch.cat(likelihoods, 0)\n",
    "max_likelihood_idx = likelihoods.argmax(1).cpu().numpy()\n"
   ]
  },
  {
   "cell_type": "code",
   "execution_count": null,
   "metadata": {},
   "outputs": [],
   "source": [
    "def find_representatives(pseudo_idx, num_representatives):\n",
    "    base_idx = np.arange(likelihoods.shape[0])\n",
    "    paragon_mask = max_likelihood_idx == pseudo_idx\n",
    "    base_idx = base_idx[paragon_mask]\n",
    "    paragon_likelihoods = likelihoods[paragon_mask, pseudo_idx]\n",
    "    vals, indices = torch.sort(paragon_likelihoods.cpu(), descending=True)\n",
    "    representatives = base_idx[indices][:num_representatives]\n",
    "    return representatives"
   ]
  },
  {
   "cell_type": "code",
   "execution_count": null,
   "metadata": {},
   "outputs": [],
   "source": [
    "idx = 0\n",
    "plt.imshow(control_data[find_representatives(0, 3)[idx]][0])"
   ]
  },
  {
   "cell_type": "code",
   "execution_count": null,
   "metadata": {},
   "outputs": [],
   "source": [
    "plot_pseudos()"
   ]
  },
  {
   "cell_type": "code",
   "execution_count": null,
   "metadata": {},
   "outputs": [],
   "source": [
    "representatives = torch.cat(\n",
    "    [torch.tensor(control_data[find_representatives(i, 3)]) for i in range(model.num_pseudos)], 1\n",
    ")"
   ]
  },
  {
   "cell_type": "code",
   "execution_count": null,
   "metadata": {},
   "outputs": [],
   "source": [
    "representatives.shape"
   ]
  },
  {
   "cell_type": "code",
   "execution_count": null,
   "metadata": {},
   "outputs": [],
   "source": [
    "plot_pseudos_and_representatives(pseudos.cpu(), representatives.cpu())"
   ]
  },
  {
   "cell_type": "code",
   "execution_count": null,
   "metadata": {},
   "outputs": [],
   "source": []
  }
 ],
 "metadata": {
  "kernelspec": {
   "display_name": "tsv",
   "language": "python",
   "name": "python3"
  },
  "language_info": {
   "codemirror_mode": {
    "name": "ipython",
    "version": 3
   },
   "file_extension": ".py",
   "mimetype": "text/x-python",
   "name": "python",
   "nbconvert_exporter": "python",
   "pygments_lexer": "ipython3",
   "version": "3.10.14"
  }
 },
 "nbformat": 4,
 "nbformat_minor": 2
}
