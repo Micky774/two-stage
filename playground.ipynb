{
 "cells": [
  {
   "cell_type": "code",
   "execution_count": null,
   "metadata": {},
   "outputs": [],
   "source": [
    "import numpy as np\n",
    "import matplotlib.pyplot as plt\n",
    "import umap\n",
    "import os\n",
    "from PCH import HDBSCAN\n",
    "from PCH.utils import constraints_from_estimate, augment_labels\n",
    "from sklearn.metrics import adjusted_rand_score\n",
    "from matplotlib import collections as mc"
   ]
  },
  {
   "cell_type": "code",
   "execution_count": null,
   "metadata": {},
   "outputs": [],
   "source": [
    "def plot_constraints(visual_embedding, selected_labels, constraints, s=.1):\n",
    "    fig, ax = plt.subplots(figsize=(10, 10))\n",
    "    ax.scatter(\n",
    "        visual_embedding[:, 0],\n",
    "        visual_embedding[:, 1],\n",
    "        c=selected_labels,\n",
    "        s=s,\n",
    "        cmap=\"tab20\",\n",
    "    )\n",
    "    ax.add_collection(\n",
    "        mc.LineCollection(\n",
    "            visual_embedding[constraints[\"ML\"]],\n",
    "            linewidths=2,\n",
    "            color=\"purple\",\n",
    "            linestyle=\"dashed\",\n",
    "            alpha=.85,\n",
    "        )\n",
    "    )\n",
    "    ax.add_collection(\n",
    "        mc.LineCollection(\n",
    "            visual_embedding[constraints[\"CL\"]],\n",
    "            linewidths=2,\n",
    "            color=\"black\",\n",
    "            linestyle=\"dashed\",\n",
    "            alpha=.25,\n",
    "        )\n",
    "    )\n",
    "    fig.show()    "
   ]
  },
  {
   "cell_type": "code",
   "execution_count": null,
   "metadata": {},
   "outputs": [],
   "source": [
    "def merge_constraints(current_constraints, new_constraints):\n",
    "    for key in new_constraints:\n",
    "        if key not in current_constraints:\n",
    "            current_constraints[key] = []\n",
    "        current_constraints[key].extend(new_constraints[key])\n",
    "    return current_constraints"
   ]
  },
  {
   "cell_type": "code",
   "execution_count": null,
   "metadata": {},
   "outputs": [],
   "source": [
    "import umap\n",
    "from matplotlib.patches import Ellipse\n",
    "import tqdm\n",
    "\n",
    "def generate_embedding(train_dataloader, encoder, transform):\n",
    "    embeddings = []\n",
    "    targets = []\n",
    "    for batch in tqdm.tqdm(train_dataloader):\n",
    "        x, y = batch\n",
    "        x = x.view(-1, 1, 28, 28).float().cuda()\n",
    "        x /= 255\n",
    "        z = encoder(x)\n",
    "        z = transform(z)\n",
    "        embeddings.append(z.detach().cpu().numpy())\n",
    "        targets.append(y.detach().cpu().numpy())\n",
    "    embeddings = np.concatenate(embeddings)\n",
    "    targets = np.concatenate(targets)\n",
    "    return embeddings, targets\n"
   ]
  },
  {
   "cell_type": "code",
   "execution_count": null,
   "metadata": {},
   "outputs": [],
   "source": [
    "from tsv.data import FMNISTDataModule\n",
    "from tsv.natvamp import DLSV\n",
    "import os\n",
    "import torch\n",
    "\n",
    "data_module = FMNISTDataModule(batch_size=256, num_workers=4, persistent_workers=False)\n",
    "data_module.setup('fit')\n",
    "data_loader = data_module.train_dataloader()"
   ]
  },
  {
   "cell_type": "code",
   "execution_count": null,
   "metadata": {},
   "outputs": [],
   "source": [
    "MODEL = \"dlsv\"\n",
    "RUN_NAME = \"fmnist-stochastic\"\n",
    "SAVE_DIR = os.path.join(\"embeddings\", MODEL, RUN_NAME)\n",
    "embedding = np.load(os.path.join(SAVE_DIR, \"embeddings.npy\"))\n",
    "targets = np.load(os.path.join(SAVE_DIR, \"labels.npy\"))"
   ]
  },
  {
   "cell_type": "code",
   "execution_count": null,
   "metadata": {},
   "outputs": [],
   "source": [
    "print(os.path.join(SAVE_DIR, \"embeddings.npy\"))"
   ]
  },
  {
   "cell_type": "code",
   "execution_count": null,
   "metadata": {},
   "outputs": [],
   "source": [
    "fig, ax = plt.subplots(1, 1, figsize=(14, 10))\n",
    "ax.set_title('Loaded embeddings', fontsize=18)\n",
    "ax.scatter(embedding[:, 0], embedding[:, 1], c=targets, cmap='tab20', s=0.1)\n",
    "fig.show()"
   ]
  },
  {
   "cell_type": "code",
   "execution_count": null,
   "metadata": {},
   "outputs": [],
   "source": [
    "MODEL = \"dlsv\"\n",
    "RUN_NAME = \"fmnist-stochastic\"\n",
    "SAVE_DIR = os.path.join(\"logs\", MODEL, RUN_NAME)\n",
    "CHKPT_DIR = os.path.join(SAVE_DIR, \"checkpoints\")\n",
    "chkpt_path = os.path.join(CHKPT_DIR, os.listdir(CHKPT_DIR)[0])\n",
    "print(chkpt_path)\n",
    "\n",
    "with torch.no_grad():\n",
    "    model = DLSV.load_from_checkpoint(chkpt_path).cuda()\n",
    "    model.train()\n",
    "    embedding, targets = generate_embedding(data_loader, lambda x: model.q_z(x)[0], lambda x: x)"
   ]
  },
  {
   "cell_type": "code",
   "execution_count": null,
   "metadata": {},
   "outputs": [],
   "source": [
    "visual_embedding = umap.UMAP(min_dist=0.0, n_neighbors=5, repulsion_strength=1).fit_transform(embedding) if embedding.shape[-1] > 2 else embedding"
   ]
  },
  {
   "cell_type": "code",
   "execution_count": null,
   "metadata": {},
   "outputs": [],
   "source": [
    "umap_embedding = umap.UMAP(min_dist=0.0, n_neighbors=5, n_components=embedding.shape[-1]).fit_transform(embedding)"
   ]
  },
  {
   "cell_type": "code",
   "execution_count": null,
   "metadata": {},
   "outputs": [],
   "source": [
    "from PCH.utils import make_targets_from_sets\n",
    "targets_five = make_targets_from_sets(targets, [{0, 3}, {1}, {2, 4, 6}, {8}, {5, 7, 9}])"
   ]
  },
  {
   "cell_type": "code",
   "execution_count": null,
   "metadata": {},
   "outputs": [],
   "source": [
    "mu, logvar, *_ = model.q_z(model.get_pseudos())"
   ]
  },
  {
   "cell_type": "code",
   "execution_count": null,
   "metadata": {},
   "outputs": [],
   "source": [
    "from tsv.natvamp import log_normal_diag\n",
    "\n",
    "log_likelihoods = log_normal_diag(torch.tensor(embedding, device=mu.device).unsqueeze(1), mu.unsqueeze(0), logvar.unsqueeze(0)).sum(-1)"
   ]
  },
  {
   "cell_type": "code",
   "execution_count": null,
   "metadata": {},
   "outputs": [],
   "source": [
    "MLE_labels = log_likelihoods.argmax(-1).cpu().numpy()"
   ]
  },
  {
   "cell_type": "code",
   "execution_count": null,
   "metadata": {},
   "outputs": [],
   "source": [
    "adjusted_rand_score(targets, MLE_labels)"
   ]
  },
  {
   "cell_type": "code",
   "execution_count": null,
   "metadata": {},
   "outputs": [],
   "source": [
    "adjusted_rand_score(targets_five, MLE_labels)"
   ]
  },
  {
   "cell_type": "code",
   "execution_count": null,
   "metadata": {},
   "outputs": [],
   "source": [
    "fig, ax = plt.subplots(1, 1, figsize=(14, 10))\n",
    "ax.set_title('NVP embeddings', fontsize=18)\n",
    "ax.scatter(visual_embedding[:, 0], visual_embedding[:, 1], c=targets, cmap='tab20', s=0.1)\n",
    "fig.show()"
   ]
  },
  {
   "cell_type": "code",
   "execution_count": null,
   "metadata": {},
   "outputs": [],
   "source": [
    "fig, ax = plt.subplots(1, 1, figsize=(14, 10))\n",
    "ax.set_title('UMAP projection of the NVP embeddings', fontsize=18)\n",
    "ax.scatter(umap_embedding[:, 0], umap_embedding[:, 1], c=targets, cmap='tab20', s=.1)\n",
    "fig.show()"
   ]
  },
  {
   "cell_type": "code",
   "execution_count": null,
   "metadata": {},
   "outputs": [],
   "source": [
    "hdb = HDBSCAN(min_cluster_size=500, constraint_mode=\"t-synthetic\")\n",
    "labels = hdb.fit_predict(embedding)"
   ]
  },
  {
   "cell_type": "code",
   "execution_count": null,
   "metadata": {},
   "outputs": [],
   "source": [
    "print(adjusted_rand_score(targets, labels))\n",
    "augmented_labels = augment_labels(embedding, labels)\n",
    "print(adjusted_rand_score(targets, augmented_labels))"
   ]
  },
  {
   "cell_type": "code",
   "execution_count": null,
   "metadata": {},
   "outputs": [],
   "source": [
    "fig, ax = plt.subplots(1, 1, figsize=(14, 10))\n",
    "ax.set_title('NVP', fontsize=18)\n",
    "ax.scatter(visual_embedding[:, 0], visual_embedding[:, 1], c=augmented_labels, cmap='tab20', s=.1)\n",
    "fig.show()"
   ]
  },
  {
   "cell_type": "code",
   "execution_count": null,
   "metadata": {},
   "outputs": [],
   "source": [
    "umap_labels = hdb.fit_predict(umap_embedding)\n",
    "print(adjusted_rand_score(targets, labels))\n",
    "augmented_labels = augment_labels(embedding, labels)\n",
    "print(adjusted_rand_score(targets, augmented_labels))\n",
    "fig, ax = plt.subplots(1, 1, figsize=(14, 10))\n",
    "ax.set_title('NVP', fontsize=18)\n",
    "ax.scatter(umap_embedding[:, 0], umap_embedding[:, 1], c=augmented_labels, cmap='tab20', s=.1)\n",
    "fig.show()"
   ]
  },
  {
   "cell_type": "code",
   "execution_count": null,
   "metadata": {},
   "outputs": [],
   "source": [
    "constraints = (\n",
    "    constraints_from_estimate(\n",
    "        visual_embedding,\n",
    "        labels=augmented_labels,\n",
    "        ground_truth=targets,\n",
    "        n_samples=20,\n",
    "        n_subsample=10000,\n",
    "    )\n",
    ")\n",
    "plot_constraints(visual_embedding, augmented_labels, constraints)"
   ]
  },
  {
   "cell_type": "code",
   "execution_count": null,
   "metadata": {},
   "outputs": [],
   "source": [
    "constrained_labels = hdb.fit(visual_embedding, constraints=constraints).labels_"
   ]
  },
  {
   "cell_type": "code",
   "execution_count": null,
   "metadata": {},
   "outputs": [],
   "source": [
    "print(adjusted_rand_score(targets, constrained_labels))\n",
    "augmented_constrained_labels = augment_labels(embedding, constrained_labels)\n",
    "print(adjusted_rand_score(targets, augmented_constrained_labels))"
   ]
  },
  {
   "cell_type": "code",
   "execution_count": null,
   "metadata": {},
   "outputs": [],
   "source": [
    "fig, ax = plt.subplots(1, 1, figsize=(14, 10))\n",
    "ax.set_title('NVP + C', fontsize=18)\n",
    "ax.scatter(visual_embedding[:, 0], visual_embedding[:, 1], c=augmented_constrained_labels, cmap='tab20', s=.1)\n",
    "fig.show()"
   ]
  },
  {
   "cell_type": "code",
   "execution_count": null,
   "metadata": {},
   "outputs": [],
   "source": [
    "constrained_umap_labels = hdb.fit(umap_embedding, constraints=constraints).labels_\n",
    "print(adjusted_rand_score(targets, constrained_umap_labels))\n",
    "augmented_constrained_umap_labels = augment_labels(embedding, constrained_umap_labels)\n",
    "print(adjusted_rand_score(targets, augmented_constrained_umap_labels))\n",
    "fig, ax = plt.subplots(1, 1, figsize=(14, 10))\n",
    "ax.set_title('NVP', fontsize=18)\n",
    "ax.scatter(umap_embedding[:, 0], umap_embedding[:, 1], c=augmented_constrained_umap_labels, cmap='tab20', s=.1)\n",
    "fig.show()"
   ]
  },
  {
   "cell_type": "code",
   "execution_count": null,
   "metadata": {},
   "outputs": [],
   "source": [
    "constraints = merge_constraints(\n",
    "    constraints,\n",
    "    constraints_from_estimate(\n",
    "        visual_embedding,\n",
    "        labels=augmented_constrained_labels,\n",
    "        ground_truth=targets,\n",
    "        n_samples=20,\n",
    "        n_subsample=10000,\n",
    "    ),\n",
    ")\n",
    "plot_constraints(visual_embedding, augmented_constrained_labels, constraints)"
   ]
  },
  {
   "cell_type": "code",
   "execution_count": null,
   "metadata": {},
   "outputs": [],
   "source": [
    "constrained_second_pass_labels = hdb.fit(visual_embedding, constraints=constraints).labels_\n",
    "\n",
    "fig, ax = plt.subplots(1, 1, figsize=(14, 10))\n",
    "ax.set_title('NVP + 2xC', fontsize=18)\n",
    "ax.scatter(visual_embedding[:, 0], visual_embedding[:, 1], c=constrained_second_pass_labels, cmap='tab20', s=.1)\n",
    "fig.show()\n"
   ]
  },
  {
   "cell_type": "code",
   "execution_count": null,
   "metadata": {},
   "outputs": [],
   "source": [
    "print(adjusted_rand_score(labels, constrained_second_pass_labels))\n",
    "augmented_constrained_second_pass_labels = augment_labels(embedding, constrained_second_pass_labels)\n",
    "print(adjusted_rand_score(labels, augmented_constrained_second_pass_labels))"
   ]
  },
  {
   "cell_type": "code",
   "execution_count": null,
   "metadata": {},
   "outputs": [],
   "source": [
    "constraints = merge_constraints(\n",
    "    constraints,\n",
    "    constraints_from_estimate(\n",
    "        visual_embedding,\n",
    "        labels=augmented_constrained_labels,\n",
    "        ground_truth=targets,\n",
    "        n_samples=20,\n",
    "        n_subsample=10000,\n",
    "    ),\n",
    ")\n",
    "plot_constraints(visual_embedding, augmented_constrained_second_pass_labels, constraints)"
   ]
  },
  {
   "cell_type": "code",
   "execution_count": null,
   "metadata": {},
   "outputs": [],
   "source": [
    "constrained_third_pass_labels = hdb.fit(visual_embedding, constraints=constraints).labels_\n",
    "\n",
    "fig, ax = plt.subplots(1, 1, figsize=(14, 10))\n",
    "ax.set_title('NVP + 3xC', fontsize=18)\n",
    "ax.scatter(visual_embedding[:, 0], visual_embedding[:, 1], c=constrained_third_pass_labels, cmap='tab20', s=.1)\n",
    "fig.show()"
   ]
  },
  {
   "cell_type": "code",
   "execution_count": null,
   "metadata": {},
   "outputs": [],
   "source": [
    "print(adjusted_rand_score(labels, constrained_third_pass_labels))\n",
    "augmented_constrained_third_pass_labels = augment_labels(embedding, constrained_third_pass_labels)\n",
    "print(adjusted_rand_score(labels, augmented_constrained_third_pass_labels))"
   ]
  },
  {
   "cell_type": "code",
   "execution_count": null,
   "metadata": {},
   "outputs": [],
   "source": [
    "fig, ax = plt.subplots(1, 1, figsize=(14, 10))\n",
    "ax.set_title('Augmented NVP + C', fontsize=18)\n",
    "ax.scatter(visual_embedding[:, 0], visual_embedding[:, 1], c=augmented_constrained_labels, cmap='tab20', s=.1)\n",
    "fig.show()"
   ]
  },
  {
   "cell_type": "code",
   "execution_count": null,
   "metadata": {},
   "outputs": [],
   "source": [
    "def make_plots(embedding, umap_embedding, targets, labels, constrained_labels, umap_labels, constrained_umap_labels):\n",
    "    fig, ax = plt.subplots(2, 5, figsize=(20, 14))\n",
    "    for i, title in enumerate([\"NVP\", \"NVP + C\", \"UMAP\", \"UMAP + C\", \"Ground Truth\"]):\n",
    "        ax[0, i].set_title(title, fontsize=18)\n",
    "        _labels = (labels, constrained_labels, umap_labels, constrained_umap_labels, targets)[i]\n",
    "        if i != 4:\n",
    "            _labels = augment_labels(embedding, _labels)\n",
    "        ax[0, i].scatter(visual_embedding[:, 0], visual_embedding[:, 1], c=_labels, cmap='tab20', s=.1)\n",
    "\n",
    "        # ax[1, i].set_title(title, fontsize=18)\n",
    "        # ax[1, i].scatter(umap_embedding[:, 0], umap_embedding[:, 1], c=_labels, cmap='tab20', s=.1)\n",
    "\n",
    "    fig.show()"
   ]
  },
  {
   "cell_type": "code",
   "execution_count": null,
   "metadata": {},
   "outputs": [],
   "source": [
    "fig, ax = plt.subplots(2, 1, figsize=(10, 14))\n",
    "ax[0].set_title('Augmented HDBSCAN Labels using NVP embedding + constraints', fontsize=18)\n",
    "ax[0].scatter(umap_embedding[:, 0], umap_embedding[:, 1], c=augmented_constrained_labels, cmap='tab20', s=.1)\n",
    "ax[1].set_title('Ground Truth', fontsize=18)\n",
    "ax[1].scatter(umap_embedding[:, 0], umap_embedding[:, 1], c=targets, cmap='tab20', s=.1)\n",
    "fig.show()\n",
    "\n",
    "print(adjusted_rand_score(labels, augmented_constrained_labels))"
   ]
  },
  {
   "cell_type": "code",
   "execution_count": null,
   "metadata": {},
   "outputs": [],
   "source": [
    "hdb.fit(umap_embedding, constraints=constraints)\n",
    "constrained_umap_labels = hdb.labels_\n",
    "\n",
    "fig, ax = plt.subplots(1, 1, figsize=(14, 10))\n",
    "ax.set_title('UMAP + C', fontsize=18)\n",
    "ax.scatter(embedding[:, 0], embedding[:, 1], c=constrained_umap_labels, cmap='tab20', s=.1)\n",
    "fig.show()\n",
    "print(adjusted_rand_score(labels, constrained_umap_labels))"
   ]
  },
  {
   "cell_type": "code",
   "execution_count": null,
   "metadata": {},
   "outputs": [],
   "source": [
    "augmented_constrained_umap_labels = augment_labels(embedding, constrained_umap_labels)\n",
    "print(adjusted_rand_score(labels, constrained_umap_labels))\n",
    "\n",
    "fig, ax = plt.subplots(1, 1, figsize=(14, 10))\n",
    "ax.set_title('UMAP + C', fontsize=18)\n",
    "ax.scatter(embedding[:, 0], embedding[:, 1], c=augmented_constrained_umap_labels, cmap='tab20', s=.1)\n",
    "fig.show()\n",
    "print(adjusted_rand_score(labels, augmented_constrained_umap_labels))"
   ]
  },
  {
   "cell_type": "code",
   "execution_count": null,
   "metadata": {},
   "outputs": [],
   "source": [
    "def eval_constraints(embeddings, names, targets, constraints):\n",
    "    hdb = HDBSCAN(min_cluster_size=500)\n",
    "    hdb_t = HDBSCAN(min_cluster_size=500, constraint_mode=\"t-synthetic\")\n",
    "    labels = []\n",
    "    for _embedding, name in zip(embeddings, names):\n",
    "        hdb.fit(_embedding)\n",
    "        labels.append(augment_labels(_embedding, hdb.labels_))\n",
    "        print(f\"{name} | {adjusted_rand_score(targets, labels[-1]):.2f}\")\n",
    "\n",
    "        hdb_t.fit(_embedding, constraints=constraints)\n",
    "        labels.append(augment_labels(_embedding, hdb_t.labels_))\n",
    "        print(f\"{name} + C | {adjusted_rand_score(targets, labels[-1]):.2f}\")\n",
    "\n",
    "    return labels"
   ]
  },
  {
   "cell_type": "code",
   "execution_count": null,
   "metadata": {},
   "outputs": [],
   "source": [
    "all_labels = eval_constraints((embedding, umap_embedding), (\"NVP\", \"UMAP\"), targets, constraints)"
   ]
  },
  {
   "cell_type": "code",
   "execution_count": null,
   "metadata": {},
   "outputs": [],
   "source": [
    "from sklearn.metrics import normalized_mutual_info_score, fowlkes_mallows_score\n",
    "\n",
    "for labels, name in zip(all_labels, [\"NVP\", \"NVP + C\", \"UMAP\", \"UMAP + C\"]):\n",
    "    print(name)\n",
    "    for scorer in [adjusted_rand_score, normalized_mutual_info_score, fowlkes_mallows_score]:\n",
    "        print(f\"{scorer.__name__} | {scorer(targets, labels):.2f}\")\n",
    "    print(\"\\n\")"
   ]
  },
  {
   "cell_type": "code",
   "execution_count": null,
   "metadata": {},
   "outputs": [],
   "source": [
    "make_plots(visual_embedding, umap_embedding, targets, *all_labels)"
   ]
  },
  {
   "cell_type": "code",
   "execution_count": null,
   "metadata": {},
   "outputs": [],
   "source": [
    "make_plots(embedding, umap_embedding, targets, labels, constrained_labels, umap_labels, constrained_umap_labels)"
   ]
  },
  {
   "cell_type": "code",
   "execution_count": null,
   "metadata": {},
   "outputs": [],
   "source": [
    "constraints = merge_constraints(\n",
    "    constraints_from_estimate(\n",
    "        embedding,\n",
    "        labels=augmented_labels,\n",
    "        ground_truth=labels,\n",
    "        n_samples=100,\n",
    "        n_subsample=10000,\n",
    "    ),\n",
    "    constraints,\n",
    ")\n",
    "plot_constraints(embedding, labels, constraints)\n",
    "plot_constraints(embedding, augmented_labels, constraints)"
   ]
  },
  {
   "cell_type": "code",
   "execution_count": null,
   "metadata": {},
   "outputs": [],
   "source": [
    "hdb = HDBSCAN(min_cluster_size=500, constraint_mode=\"t-synthetic\")\n",
    "hdb.fit(embedding, constraints=constraints)\n",
    "constrained_labels.append(hdb.labels_)\n",
    "\n",
    "fig, ax = plt.subplots(1, 1, figsize=(14, 10))\n",
    "ax.set_title('HDBSCAN Labels using visual embedding + 2x constraints', fontsize=18)\n",
    "ax.scatter(embedding[:, 0], embedding[:, 1], c=constrained_labels[1], cmap='tab20', s=.1)\n",
    "fig.show()\n",
    "print(adjusted_rand_score(labels, constrained_labels[1]))"
   ]
  },
  {
   "cell_type": "code",
   "execution_count": null,
   "metadata": {},
   "outputs": [],
   "source": [
    "constraints = merge_constraints(\n",
    "    constraints_from_estimate(\n",
    "        embedding,\n",
    "        labels=constrained_labels[1],\n",
    "        ground_truth=labels,\n",
    "        n_samples=1000,\n",
    "        n_subsample=20000,\n",
    "    ),\n",
    "    constraints,\n",
    ")\n",
    "plot_constraints(embedding, labels, constraints)\n",
    "plot_constraints(embedding, constrained_labels[0], constraints)"
   ]
  },
  {
   "cell_type": "code",
   "execution_count": null,
   "metadata": {},
   "outputs": [],
   "source": [
    "hdb = HDBSCAN(min_cluster_size=500, constraint_mode=\"t-synthetic\")\n",
    "hdb.fit(embedding, constraints=constraints)\n",
    "# constrained_labels.append(hdb.labels_)\n",
    "clabel = hdb.labels_\n",
    "\n",
    "fig, ax = plt.subplots(1, 1, figsize=(14, 10))\n",
    "ax.set_title('HDBSCAN Labels using visual embedding + 3x constraints', fontsize=18)\n",
    "ax.scatter(embedding[:, 0], embedding[:, 1], c=clabel, cmap='tab20', s=.1)\n",
    "fig.show()\n",
    "print(adjusted_rand_score(labels, clabel))"
   ]
  },
  {
   "cell_type": "code",
   "execution_count": null,
   "metadata": {},
   "outputs": [],
   "source": [
    "fig, ax = plt.subplots(1, 2, figsize=(20, 10))\n",
    "ax[0].set_title('16-dim LSV + UMAP + 1000 constraints', fontsize=18)\n",
    "ax[0].scatter(visual_embedding[:, 0], visual_embedding[:, 1], c=all_labels[-1], cmap='tab20', s=.1)\n",
    "ax[1].set_title('Ground Truth', fontsize=18)\n",
    "ax[1].scatter(visual_embedding[:, 0], visual_embedding[:, 1], c=targets, cmap='tab20', s=.1)\n",
    "fig.show()\n",
    "print(f\"ARI = {adjusted_rand_score(targets, all_labels[-1]):.2f}\")"
   ]
  },
  {
   "cell_type": "code",
   "execution_count": null,
   "metadata": {},
   "outputs": [],
   "source": [
    "from sklearn.metrics import normalized_mutual_info_score, fowlkes_mallows_score\n",
    "\n",
    "\n",
    "def iter_eval(\n",
    "    fit_embedding,\n",
    "    augment_embedding,\n",
    "    constraint_embedding,\n",
    "    visual_embedding,\n",
    "    targets,\n",
    "    n_iter=5,\n",
    "    constraints_per_iteration=20,\n",
    "):\n",
    "    iter_labels = []\n",
    "    hdb_iter = HDBSCAN(min_cluster_size=500, constraint_mode=\"t-synthetic\")\n",
    "    constraints = {}\n",
    "    for i in range(n_iter):\n",
    "        hdb_iter.fit(fit_embedding, constraints=constraints)\n",
    "        iter_labels.append(augment_labels(augment_embedding, hdb_iter.labels_))\n",
    "        constraints = merge_constraints(\n",
    "            constraints_from_estimate(\n",
    "                constraint_embedding,\n",
    "                labels=iter_labels[-1],\n",
    "                ground_truth=targets,\n",
    "                n_samples=constraints_per_iteration,\n",
    "                n_subsample=20000,\n",
    "            ),\n",
    "            constraints,\n",
    "        )\n",
    "        print(\n",
    "            f\"Iteration {i + 1} | ARI = {adjusted_rand_score(targets, iter_labels[-1]):.2f}\"\n",
    "            f\" | NMI = {normalized_mutual_info_score(targets, iter_labels[-1]):.2f}\"\n",
    "            f\" | FMI = {fowlkes_mallows_score(targets, iter_labels[-1]):.2f}\"\n",
    "        )\n",
    "        fig, ax = plt.subplots(1, 1, figsize=(14, 10))\n",
    "        ax.set_title(f\"NVP + C | Iteration {i + 1}\", fontsize=18)\n",
    "        ax.scatter(\n",
    "            visual_embedding[:, 0],\n",
    "            visual_embedding[:, 1],\n",
    "            c=iter_labels[-1],\n",
    "            cmap=\"tab20\",\n",
    "            s=0.1,\n",
    "        )\n",
    "        fig.show()"
   ]
  },
  {
   "cell_type": "code",
   "execution_count": null,
   "metadata": {},
   "outputs": [],
   "source": [
    "iter_eval(\n",
    "    fit_embedding=umap_embedding,\n",
    "    augment_embedding=umap_embedding,\n",
    "    constraint_embedding=umap_embedding,\n",
    "    visual_embedding=umap_embedding,\n",
    "    targets=targets,\n",
    "    n_iter=5,\n",
    "    constraints_per_iteration=20,\n",
    ")"
   ]
  },
  {
   "cell_type": "code",
   "execution_count": null,
   "metadata": {},
   "outputs": [],
   "source": [
    "augmented_labels = augment_labels(embedding, clabel)\n",
    "print(adjusted_rand_score(labels, augmented_labels))"
   ]
  },
  {
   "cell_type": "code",
   "execution_count": null,
   "metadata": {},
   "outputs": [],
   "source": [
    "fig, ax = plt.subplots(1, 1, figsize=(14, 10))\n",
    "ax.set_title('HDBSCAN Labels using visual embedding + 3x constraints', fontsize=18)\n",
    "ax.scatter(embedding[:, 0], embedding[:, 1], c=augmented_labels, cmap='tab20', s=.1)\n",
    "fig.show()"
   ]
  },
  {
   "cell_type": "code",
   "execution_count": null,
   "metadata": {},
   "outputs": [],
   "source": [
    "np.save(SAVE_DIR + \"constrained_labels.npy\", augmented_labels)\n",
    "print(f\"Saving to {SAVE_DIR}constrained_labels.npy\")"
   ]
  },
  {
   "cell_type": "code",
   "execution_count": null,
   "metadata": {},
   "outputs": [],
   "source": [
    "from torchvision.datasets import FashionMNIST\n",
    "from torchvision import transforms\n",
    "from tsv.natvamp import NVPW\n",
    "import torch\n",
    "fmnist_train = FashionMNIST(\n",
    "    \"FMNIST\",\n",
    "    train=True,\n",
    "    download=True,\n",
    ")\n",
    "control_data = fmnist_train.data.view(-1, 1, 28, 28).float().numpy()\n",
    "control_data /= 255\n",
    "control_labels = fmnist_train.targets.numpy()"
   ]
  },
  {
   "cell_type": "code",
   "execution_count": null,
   "metadata": {},
   "outputs": [],
   "source": [
    "model = NVPW.load_from_checkpoint(\"/home/zain/code/two-stage/logs/nvpw/fmnist-pseudodiverge/checkpoints/epoch=99-step=5900.ckpt\")\n",
    "torch.set_grad_enabled(False)"
   ]
  },
  {
   "cell_type": "code",
   "execution_count": null,
   "metadata": {},
   "outputs": [],
   "source": [
    "torch.set_grad_enabled(False)\n",
    "model.train().cuda()"
   ]
  },
  {
   "cell_type": "code",
   "execution_count": null,
   "metadata": {},
   "outputs": [],
   "source": [
    "idx = 1\n",
    "raw = control_data[idx:idx+2]\n",
    "x = raw.squeeze(1)\n",
    "with torch.no_grad():\n",
    "    x_hat = model(torch.tensor(raw).cuda())[0].cpu().view(-1, 28, 28).numpy()\n",
    "plt.imshow(x[0])\n",
    "plt.show()\n",
    "plt.imshow(x_hat[0])\n",
    "plt.show()\n",
    "torch.nn.functional.mse_loss(torch.tensor(x), torch.tensor(x_hat), reduction=\"mean\")"
   ]
  },
  {
   "cell_type": "code",
   "execution_count": null,
   "metadata": {},
   "outputs": [],
   "source": [
    "width = np.ceil(np.sqrt(model.num_pseudos))\n",
    "width = int(width)\n",
    "length = width\n",
    "if model.num_pseudos % width == 0:\n",
    "    length -= 1\n",
    "fig, ax = plt.subplots(length, width, figsize=(14, 10))\n",
    "\n",
    "for i, _ax in zip(range(model.num_pseudos), ax.flatten()):\n",
    "    pseudo = model.pseudos[i].cpu().view(28, 28).numpy()\n",
    "    _ax.imshow(pseudo)"
   ]
  },
  {
   "cell_type": "code",
   "execution_count": null,
   "metadata": {},
   "outputs": [],
   "source": [
    "model.merge_pseudos(0, 1)"
   ]
  },
  {
   "cell_type": "code",
   "execution_count": null,
   "metadata": {},
   "outputs": [],
   "source": [
    "visual = umap.UMAP(n_components=2, min_dist=0).fit_transform(control_data)"
   ]
  },
  {
   "cell_type": "code",
   "execution_count": null,
   "metadata": {},
   "outputs": [],
   "source": [
    "fig, ax = plt.subplots(1, 1, figsize=(14, 10))\n",
    "ax.set_title('UMAP projection of the NVP embeddings with estimated labels', fontsize=18)\n",
    "ax.scatter(visual[:, 0], visual[:, 1], c=fmnist_train.targets, cmap='tab20', s=.1)\n",
    "fig.show()"
   ]
  },
  {
   "cell_type": "code",
   "execution_count": null,
   "metadata": {},
   "outputs": [],
   "source": [
    "hdb = HDBSCAN(min_cluster_size=500, min_samples=5)\n",
    "estimated_labels = hdb.fit_predict(visual)"
   ]
  },
  {
   "cell_type": "code",
   "execution_count": null,
   "metadata": {},
   "outputs": [],
   "source": [
    "fig, ax = plt.subplots(1, 1, figsize=(14, 10))\n",
    "ax.set_title('UMAP projection of the NVP embeddings with estimated labels', fontsize=18)\n",
    "ax.scatter(visual[:, 0], visual[:, 1], c=estimated_labels, cmap='tab20', s=.1)\n",
    "fig.show()"
   ]
  },
  {
   "cell_type": "code",
   "execution_count": null,
   "metadata": {},
   "outputs": [],
   "source": [
    "print(adjusted_rand_score(fmnist_train.targets, estimated_labels))"
   ]
  },
  {
   "cell_type": "code",
   "execution_count": null,
   "metadata": {},
   "outputs": [],
   "source": [
    "hdb = HDBSCAN(min_cluster_size=500, min_samples=5, constraint_mode=\"synthetic\")\n",
    "constraints = constraints_from_estimate(control_data, estimated_labels, fmnist_train.targets, 100)\n",
    "hdb.fit(visual, constraints=constraints)\n",
    "second_estimated_labels = hdb.labels_"
   ]
  },
  {
   "cell_type": "code",
   "execution_count": null,
   "metadata": {},
   "outputs": [],
   "source": [
    "fig, ax = plt.subplots(1, 1, figsize=(14, 10))\n",
    "ax.set_title('UMAP projection of the NVP embeddings with estimated labels', fontsize=18)\n",
    "ax.scatter(visual[:, 0], visual[:, 1], c=second_estimated_labels, cmap='tab20', s=.1)\n",
    "fig.show()"
   ]
  },
  {
   "cell_type": "code",
   "execution_count": null,
   "metadata": {},
   "outputs": [],
   "source": [
    "print(adjusted_rand_score(fmnist_train.targets, second_estimated_labels))"
   ]
  },
  {
   "cell_type": "code",
   "execution_count": null,
   "metadata": {},
   "outputs": [],
   "source": [
    "new_constraints = constraints_from_estimate(control_data, second_estimated_labels, fmnist_train.targets, 100)\n",
    "constraints['ML'].extend(new_constraints['ML'])\n",
    "constraints['CL'].extend(new_constraints['CL'])"
   ]
  },
  {
   "cell_type": "code",
   "execution_count": null,
   "metadata": {},
   "outputs": [],
   "source": [
    "hdb = HDBSCAN(min_cluster_size=500, min_samples=5, constraint_mode=\"synthetic\")\n",
    "hdb.fit(visual, constraints=constraints)\n",
    "third_estimated_labels = hdb.labels_"
   ]
  },
  {
   "cell_type": "code",
   "execution_count": null,
   "metadata": {},
   "outputs": [],
   "source": [
    "fig, ax = plt.subplots(1, 1, figsize=(14, 10))\n",
    "ax.set_title('UMAP projection of the NVP embeddings with estimated labels', fontsize=18)\n",
    "ax.scatter(visual[:, 0], visual[:, 1], c=third_estimated_labels, cmap='tab20', s=.1)\n",
    "fig.show()"
   ]
  },
  {
   "cell_type": "code",
   "execution_count": null,
   "metadata": {},
   "outputs": [],
   "source": [
    "print(adjusted_rand_score(fmnist_train.targets, third_estimated_labels))"
   ]
  },
  {
   "cell_type": "code",
   "execution_count": null,
   "metadata": {},
   "outputs": [],
   "source": [
    "control_embedding = umap.UMAP(n_components=16, min_dist=0).fit_transform(fmnist_train.data.view(-1, 28*28))"
   ]
  },
  {
   "cell_type": "code",
   "execution_count": null,
   "metadata": {},
   "outputs": [],
   "source": []
  },
  {
   "cell_type": "code",
   "execution_count": null,
   "metadata": {},
   "outputs": [],
   "source": [
    "import numpy as np\n",
    "rng = np.random.RandomState(42)\n",
    "sample_idxs = rng.choice(len(control_embedding), data.shape[0], replace=False)\n",
    "control_embedding = control_embedding[sample_idxs]\n"
   ]
  },
  {
   "cell_type": "code",
   "execution_count": null,
   "metadata": {},
   "outputs": [],
   "source": [
    "hdb = HDBSCAN(min_cluster_size=50)\n",
    "estimated_labels_control = hdb.fit_predict(control_embedding)\n",
    "\n",
    "fig, ax = plt.subplots(1, 1, figsize=(14, 10))\n",
    "ax.set_title('UMAP projection of the NVP embeddings with control labels', fontsize=18)\n",
    "ax.scatter(control_visual[:, 0], control_visual[:, 1], c=estimated_labels_control, cmap='tab20', s=.1)\n",
    "fig.show()"
   ]
  },
  {
   "cell_type": "code",
   "execution_count": null,
   "metadata": {},
   "outputs": [],
   "source": [
    "print(adjusted_rand_score(fmnist_train.targets, estimated_labels))"
   ]
  },
  {
   "cell_type": "code",
   "execution_count": null,
   "metadata": {},
   "outputs": [],
   "source": []
  }
 ],
 "metadata": {
  "kernelspec": {
   "display_name": "tsv",
   "language": "python",
   "name": "python3"
  },
  "language_info": {
   "codemirror_mode": {
    "name": "ipython",
    "version": 3
   },
   "file_extension": ".py",
   "mimetype": "text/x-python",
   "name": "python",
   "nbconvert_exporter": "python",
   "pygments_lexer": "ipython3",
   "version": "3.10.14"
  }
 },
 "nbformat": 4,
 "nbformat_minor": 2
}
