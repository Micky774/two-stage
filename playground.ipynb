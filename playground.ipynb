{
 "cells": [
  {
   "cell_type": "code",
   "execution_count": null,
   "metadata": {},
   "outputs": [],
   "source": [
    "import numpy as np\n",
    "import matplotlib.pyplot as plt\n",
    "import umap\n",
    "import os\n",
    "from PCH import HDBSCAN\n",
    "from PCH.utils import constraints_from_estimate, augment_labels\n",
    "from sklearn.metrics import adjusted_rand_score\n",
    "from matplotlib import collections as mc"
   ]
  },
  {
   "cell_type": "code",
   "execution_count": null,
   "metadata": {},
   "outputs": [],
   "source": [
    "def plot_constraints(visual_embedding, selected_labels, constraints, s=.1):\n",
    "    fig, ax = plt.subplots(figsize=(10, 10))\n",
    "    ax.scatter(\n",
    "        visual_embedding[:, 0],\n",
    "        visual_embedding[:, 1],\n",
    "        c=selected_labels,\n",
    "        s=s,\n",
    "        cmap=\"tab20\",\n",
    "    )\n",
    "    ax.add_collection(\n",
    "        mc.LineCollection(\n",
    "            visual_embedding[constraints[\"ML\"]],\n",
    "            linewidths=2,\n",
    "            color=\"purple\",\n",
    "            linestyle=\"dashed\",\n",
    "            alpha=.85,\n",
    "        )\n",
    "    )\n",
    "    ax.add_collection(\n",
    "        mc.LineCollection(\n",
    "            visual_embedding[constraints[\"CL\"]],\n",
    "            linewidths=2,\n",
    "            color=\"black\",\n",
    "            linestyle=\"dashed\",\n",
    "            alpha=.25,\n",
    "        )\n",
    "    )\n",
    "    fig.show()    "
   ]
  },
  {
   "cell_type": "code",
   "execution_count": null,
   "metadata": {},
   "outputs": [],
   "source": [
    "def merge_constraints(current_constraints, new_constraints):\n",
    "    for key in new_constraints:\n",
    "        if key not in current_constraints:\n",
    "            current_constraints[key] = []\n",
    "        current_constraints[key].extend(new_constraints[key])\n",
    "    return current_constraints"
   ]
  },
  {
   "cell_type": "code",
   "execution_count": null,
   "metadata": {},
   "outputs": [],
   "source": [
    "MODEL = \"vae\"\n",
    "PARENT_DIR = \"embeddings\"\n",
    "# SAVE_DIR = \"logs/vae/overfit_2/\"\n",
    "RUN_NAME = \"overfit_5\"\n",
    "SAVE_DIR = os.path.join(PARENT_DIR, MODEL, RUN_NAME) + \"/\"\n",
    "\n",
    "data = np.load(SAVE_DIR + \"embeddings.npy\")\n",
    "labels = np.load(SAVE_DIR + \"labels.npy\")"
   ]
  },
  {
   "cell_type": "code",
   "execution_count": null,
   "metadata": {},
   "outputs": [],
   "source": [
    "print(data.shape)"
   ]
  },
  {
   "cell_type": "code",
   "execution_count": null,
   "metadata": {},
   "outputs": [],
   "source": [
    "def get_visual(data):\n",
    "    if os.path.exists(SAVE_DIR + \"visual.npy\"):\n",
    "        return np.load(SAVE_DIR + \"visual.npy\")\n",
    "    else:\n",
    "        visual = umap.UMAP(min_dist=0).fit_transform(data)\n",
    "        np.save(SAVE_DIR + \"visual.npy\", visual)\n",
    "        return visual"
   ]
  },
  {
   "cell_type": "code",
   "execution_count": null,
   "metadata": {},
   "outputs": [],
   "source": [
    "embedding = get_visual(data)"
   ]
  },
  {
   "cell_type": "code",
   "execution_count": null,
   "metadata": {},
   "outputs": [],
   "source": [
    "fig, ax = plt.subplots(1, 1, figsize=(14, 10))\n",
    "ax.set_title('UMAP projection of the NVP embeddings', fontsize=18)\n",
    "ax.scatter(embedding[:, 0], embedding[:, 1], c=labels, cmap='tab20', s=1)\n",
    "fig.show()"
   ]
  },
  {
   "cell_type": "code",
   "execution_count": null,
   "metadata": {},
   "outputs": [],
   "source": [
    "fig, ax = plt.subplots(1, 1, figsize=(14, 10))\n",
    "ax.set_title('UMAP projection of the NVP embeddings', fontsize=18)\n",
    "ax.scatter(embedding[:, 0], embedding[:, 1], c=labels, cmap='tab20', s=.1)\n",
    "fig.show()"
   ]
  },
  {
   "cell_type": "code",
   "execution_count": null,
   "metadata": {},
   "outputs": [],
   "source": [
    "hdb = HDBSCAN(min_cluster_size=500)\n",
    "estimated_visual_labels = hdb.fit_predict(embedding)\n",
    "\n",
    "fig, ax = plt.subplots(1, 1, figsize=(14, 10))\n",
    "ax.set_title('HDBSCAN Labels using visual embedding', fontsize=18)\n",
    "ax.scatter(embedding[:, 0], embedding[:, 1], c=estimated_visual_labels, cmap='tab20', s=.1)\n",
    "fig.show()"
   ]
  },
  {
   "cell_type": "code",
   "execution_count": null,
   "metadata": {},
   "outputs": [],
   "source": [
    "print(adjusted_rand_score(labels, estimated_visual_labels))"
   ]
  },
  {
   "cell_type": "code",
   "execution_count": null,
   "metadata": {},
   "outputs": [],
   "source": [
    "augmented_labels = augment_labels(embedding, estimated_visual_labels)"
   ]
  },
  {
   "cell_type": "code",
   "execution_count": null,
   "metadata": {},
   "outputs": [],
   "source": [
    "constraints = (\n",
    "    constraints_from_estimate(\n",
    "        embedding,\n",
    "        labels=augmented_labels,\n",
    "        ground_truth=labels,\n",
    "        n_samples=100,\n",
    "        n_subsample=10000,\n",
    "    )\n",
    ")\n",
    "plot_constraints(embedding, labels, constraints)\n",
    "plot_constraints(embedding, augmented_labels, constraints)"
   ]
  },
  {
   "cell_type": "code",
   "execution_count": null,
   "metadata": {},
   "outputs": [],
   "source": [
    "constrained_labels = []\n",
    "hdb = HDBSCAN(min_cluster_size=500, constraint_mode=\"t-synthetic\")\n",
    "hdb.fit(embedding, constraints=constraints)\n",
    "constrained_labels.append(hdb.labels_)\n",
    "\n",
    "fig, ax = plt.subplots(1, 1, figsize=(14, 10))\n",
    "ax.set_title('HDBSCAN Labels using visual embedding + constraints', fontsize=18)\n",
    "ax.scatter(embedding[:, 0], embedding[:, 1], c=constrained_labels[0], cmap='tab20', s=.1)\n",
    "fig.show()\n",
    "print(adjusted_rand_score(labels, constrained_labels[0]))"
   ]
  },
  {
   "cell_type": "code",
   "execution_count": null,
   "metadata": {},
   "outputs": [],
   "source": [
    "augmented_labels = augment_labels(embedding, constrained_labels[0])"
   ]
  },
  {
   "cell_type": "code",
   "execution_count": null,
   "metadata": {},
   "outputs": [],
   "source": [
    "fig, ax = plt.subplots(1, 1, figsize=(14, 10))\n",
    "ax.set_title('Augmented HDBSCAN Labels using visual embedding + constraints', fontsize=18)\n",
    "ax.scatter(embedding[:, 0], embedding[:, 1], c=augmented_labels, cmap='tab20', s=.1)\n",
    "fig.show()\n",
    "print(adjusted_rand_score(labels, augmented_labels))"
   ]
  },
  {
   "cell_type": "code",
   "execution_count": null,
   "metadata": {},
   "outputs": [],
   "source": [
    "np.save(SAVE_DIR + \"constrained_labels.npy\", augmented_labels)\n",
    "print(f\"Saving to {SAVE_DIR}constrained_labels.npy\")"
   ]
  },
  {
   "cell_type": "code",
   "execution_count": null,
   "metadata": {},
   "outputs": [],
   "source": [
    "constraints = merge_constraints(\n",
    "    constraints_from_estimate(\n",
    "        embedding,\n",
    "        labels=augmented_labels,\n",
    "        ground_truth=labels,\n",
    "        n_samples=100,\n",
    "        n_subsample=10000,\n",
    "    ),\n",
    "    constraints,\n",
    ")\n",
    "plot_constraints(embedding, labels, constraints)\n",
    "plot_constraints(embedding, augmented_labels, constraints)"
   ]
  },
  {
   "cell_type": "code",
   "execution_count": null,
   "metadata": {},
   "outputs": [],
   "source": [
    "hdb = HDBSCAN(min_cluster_size=500, constraint_mode=\"t-synthetic\")\n",
    "hdb.fit(embedding, constraints=constraints)\n",
    "constrained_labels.append(hdb.labels_)\n",
    "\n",
    "fig, ax = plt.subplots(1, 1, figsize=(14, 10))\n",
    "ax.set_title('HDBSCAN Labels using visual embedding + 2x constraints', fontsize=18)\n",
    "ax.scatter(embedding[:, 0], embedding[:, 1], c=constrained_labels[1], cmap='tab20', s=.1)\n",
    "fig.show()\n",
    "print(adjusted_rand_score(labels, constrained_labels[1]))"
   ]
  },
  {
   "cell_type": "code",
   "execution_count": null,
   "metadata": {},
   "outputs": [],
   "source": [
    "constraints = merge_constraints(\n",
    "    constraints_from_estimate(\n",
    "        embedding,\n",
    "        labels=constrained_labels[1],\n",
    "        ground_truth=labels,\n",
    "        n_samples=1000,\n",
    "        n_subsample=20000,\n",
    "    ),\n",
    "    constraints,\n",
    ")\n",
    "plot_constraints(embedding, labels, constraints)\n",
    "plot_constraints(embedding, constrained_labels[0], constraints)"
   ]
  },
  {
   "cell_type": "code",
   "execution_count": null,
   "metadata": {},
   "outputs": [],
   "source": [
    "hdb = HDBSCAN(min_cluster_size=500, constraint_mode=\"t-synthetic\")\n",
    "hdb.fit(embedding, constraints=constraints)\n",
    "# constrained_labels.append(hdb.labels_)\n",
    "clabel = hdb.labels_\n",
    "\n",
    "fig, ax = plt.subplots(1, 1, figsize=(14, 10))\n",
    "ax.set_title('HDBSCAN Labels using visual embedding + 3x constraints', fontsize=18)\n",
    "ax.scatter(embedding[:, 0], embedding[:, 1], c=clabel, cmap='tab20', s=.1)\n",
    "fig.show()\n",
    "print(adjusted_rand_score(labels, clabel))"
   ]
  },
  {
   "cell_type": "code",
   "execution_count": null,
   "metadata": {},
   "outputs": [],
   "source": [
    "fig, ax = plt.subplots(1, 1, figsize=(14, 10))\n",
    "ax.set_title('HDBSCAN Labels using visual embedding + 3x constraints', fontsize=18)\n",
    "ax.scatter(embedding[:, 0], embedding[:, 1], c=clabel, cmap='tab20', s=.1)\n",
    "fig.show()\n",
    "print(adjusted_rand_score(labels, clabel))"
   ]
  },
  {
   "cell_type": "code",
   "execution_count": null,
   "metadata": {},
   "outputs": [],
   "source": [
    "augmented_labels = augment_labels(embedding, clabel)\n",
    "print(adjusted_rand_score(labels, augmented_labels))"
   ]
  },
  {
   "cell_type": "code",
   "execution_count": null,
   "metadata": {},
   "outputs": [],
   "source": [
    "fig, ax = plt.subplots(1, 1, figsize=(14, 10))\n",
    "ax.set_title('HDBSCAN Labels using visual embedding + 3x constraints', fontsize=18)\n",
    "ax.scatter(embedding[:, 0], embedding[:, 1], c=augmented_labels, cmap='tab20', s=.1)\n",
    "fig.show()"
   ]
  },
  {
   "cell_type": "code",
   "execution_count": null,
   "metadata": {},
   "outputs": [],
   "source": [
    "np.save(SAVE_DIR + \"constrained_labels.npy\", augmented_labels)\n",
    "print(f\"Saving to {SAVE_DIR}constrained_labels.npy\")"
   ]
  },
  {
   "cell_type": "code",
   "execution_count": null,
   "metadata": {},
   "outputs": [],
   "source": [
    "from torchvision.datasets import FashionMNIST\n",
    "from torchvision import transforms\n",
    "\n",
    "\n",
    "fmnist_train = FashionMNIST(\n",
    "    \"FMNIST\",\n",
    "    train=True,\n",
    "    download=True,\n",
    ")\n",
    "control_data = fmnist_train.data.view(-1, 28*28).float().numpy()\n",
    "control_data /= 255\n",
    "control_labels = fmnist_train.targets.numpy()"
   ]
  },
  {
   "cell_type": "code",
   "execution_count": null,
   "metadata": {},
   "outputs": [],
   "source": [
    "visual = umap.UMAP(n_components=2, min_dist=0).fit_transform(control_data)"
   ]
  },
  {
   "cell_type": "code",
   "execution_count": null,
   "metadata": {},
   "outputs": [],
   "source": [
    "fig, ax = plt.subplots(1, 1, figsize=(14, 10))\n",
    "ax.set_title('UMAP projection of the NVP embeddings with estimated labels', fontsize=18)\n",
    "ax.scatter(visual[:, 0], visual[:, 1], c=fmnist_train.targets, cmap='tab20', s=.1)\n",
    "fig.show()"
   ]
  },
  {
   "cell_type": "code",
   "execution_count": null,
   "metadata": {},
   "outputs": [],
   "source": [
    "hdb = HDBSCAN(min_cluster_size=500, min_samples=5)\n",
    "estimated_labels = hdb.fit_predict(visual)"
   ]
  },
  {
   "cell_type": "code",
   "execution_count": null,
   "metadata": {},
   "outputs": [],
   "source": [
    "fig, ax = plt.subplots(1, 1, figsize=(14, 10))\n",
    "ax.set_title('UMAP projection of the NVP embeddings with estimated labels', fontsize=18)\n",
    "ax.scatter(visual[:, 0], visual[:, 1], c=estimated_labels, cmap='tab20', s=.1)\n",
    "fig.show()"
   ]
  },
  {
   "cell_type": "code",
   "execution_count": null,
   "metadata": {},
   "outputs": [],
   "source": [
    "print(adjusted_rand_score(fmnist_train.targets, estimated_labels))"
   ]
  },
  {
   "cell_type": "code",
   "execution_count": null,
   "metadata": {},
   "outputs": [],
   "source": [
    "hdb = HDBSCAN(min_cluster_size=500, min_samples=5, constraint_mode=\"synthetic\")\n",
    "constraints = constraints_from_estimate(control_data, estimated_labels, fmnist_train.targets, 100)\n",
    "hdb.fit(visual, constraints=constraints)\n",
    "second_estimated_labels = hdb.labels_"
   ]
  },
  {
   "cell_type": "code",
   "execution_count": null,
   "metadata": {},
   "outputs": [],
   "source": [
    "fig, ax = plt.subplots(1, 1, figsize=(14, 10))\n",
    "ax.set_title('UMAP projection of the NVP embeddings with estimated labels', fontsize=18)\n",
    "ax.scatter(visual[:, 0], visual[:, 1], c=second_estimated_labels, cmap='tab20', s=.1)\n",
    "fig.show()"
   ]
  },
  {
   "cell_type": "code",
   "execution_count": null,
   "metadata": {},
   "outputs": [],
   "source": [
    "print(adjusted_rand_score(fmnist_train.targets, second_estimated_labels))"
   ]
  },
  {
   "cell_type": "code",
   "execution_count": null,
   "metadata": {},
   "outputs": [],
   "source": [
    "new_constraints = constraints_from_estimate(control_data, second_estimated_labels, fmnist_train.targets, 100)\n",
    "constraints['ML'].extend(new_constraints['ML'])\n",
    "constraints['CL'].extend(new_constraints['CL'])"
   ]
  },
  {
   "cell_type": "code",
   "execution_count": null,
   "metadata": {},
   "outputs": [],
   "source": [
    "hdb = HDBSCAN(min_cluster_size=500, min_samples=5, constraint_mode=\"synthetic\")\n",
    "hdb.fit(visual, constraints=constraints)\n",
    "third_estimated_labels = hdb.labels_"
   ]
  },
  {
   "cell_type": "code",
   "execution_count": null,
   "metadata": {},
   "outputs": [],
   "source": [
    "fig, ax = plt.subplots(1, 1, figsize=(14, 10))\n",
    "ax.set_title('UMAP projection of the NVP embeddings with estimated labels', fontsize=18)\n",
    "ax.scatter(visual[:, 0], visual[:, 1], c=third_estimated_labels, cmap='tab20', s=.1)\n",
    "fig.show()"
   ]
  },
  {
   "cell_type": "code",
   "execution_count": null,
   "metadata": {},
   "outputs": [],
   "source": [
    "print(adjusted_rand_score(fmnist_train.targets, third_estimated_labels))"
   ]
  },
  {
   "cell_type": "code",
   "execution_count": null,
   "metadata": {},
   "outputs": [],
   "source": [
    "control_embedding = umap.UMAP(n_components=16, min_dist=0).fit_transform(fmnist_train.data.view(-1, 28*28))"
   ]
  },
  {
   "cell_type": "code",
   "execution_count": null,
   "metadata": {},
   "outputs": [],
   "source": []
  },
  {
   "cell_type": "code",
   "execution_count": null,
   "metadata": {},
   "outputs": [],
   "source": [
    "import numpy as np\n",
    "rng = np.random.RandomState(42)\n",
    "sample_idxs = rng.choice(len(control_embedding), data.shape[0], replace=False)\n",
    "control_embedding = control_embedding[sample_idxs]\n"
   ]
  },
  {
   "cell_type": "code",
   "execution_count": null,
   "metadata": {},
   "outputs": [],
   "source": [
    "hdb = HDBSCAN(min_cluster_size=50)\n",
    "estimated_labels_control = hdb.fit_predict(control_embedding)\n",
    "\n",
    "fig, ax = plt.subplots(1, 1, figsize=(14, 10))\n",
    "ax.set_title('UMAP projection of the NVP embeddings with control labels', fontsize=18)\n",
    "ax.scatter(control_visual[:, 0], control_visual[:, 1], c=estimated_labels_control, cmap='tab20', s=.1)\n",
    "fig.show()"
   ]
  },
  {
   "cell_type": "code",
   "execution_count": null,
   "metadata": {},
   "outputs": [],
   "source": [
    "print(adjusted_rand_score(fmnist_train.targets, estimated_labels))"
   ]
  },
  {
   "cell_type": "code",
   "execution_count": null,
   "metadata": {},
   "outputs": [],
   "source": []
  }
 ],
 "metadata": {
  "kernelspec": {
   "display_name": "tsv",
   "language": "python",
   "name": "python3"
  },
  "language_info": {
   "codemirror_mode": {
    "name": "ipython",
    "version": 3
   },
   "file_extension": ".py",
   "mimetype": "text/x-python",
   "name": "python",
   "nbconvert_exporter": "python",
   "pygments_lexer": "ipython3",
   "version": "3.10.14"
  }
 },
 "nbformat": 4,
 "nbformat_minor": 2
}
